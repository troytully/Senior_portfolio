{
  "nbformat": 4,
  "nbformat_minor": 0,
  "metadata": {
    "colab": {
      "name": "KMeans.ipynb.txt",
      "provenance": [],
      "collapsed_sections": []
    },
    "kernelspec": {
      "name": "python3",
      "display_name": "Python 3"
    }
  },
  "cells": [
    {
      "cell_type": "markdown",
      "metadata": {
        "id": "RWPMbVfk28Zx",
        "colab_type": "text"
      },
      "source": [
        "<h1>K-Means Clustering</h1>\n",
        "\n",
        "<h2>Clustering</h2>\n",
        "\n",
        "<p>Clustering a data set $X$ into $n$ clusters $C$ involves defining a function $$f : X \\rightarrow Y $$ which assigns a cluster $y_i \\in Y$ to each data point $x_j \\in X$. </p>\n",
        "\n",
        "<p>It is a form of unsupervised learning. Although it can be used for classification by setting the class of each $x$ to $f(x)$, the labels $y$ are learned by the clustering algorithm, not provided. Learning $f(x)$ from both samples $X$ <b>and</b> labels $Y$ would constitute a supervised approach.</p>\n",
        "\n",
        "<h2>K-Means</h2>\n",
        "\n",
        "<p>The $k$ in K-means refers to the number of clusters. The algorithm learns to assign points $x$ to $k$ clusters. The \"means\" refers to how the clusters are decided. Each cluster has a center: the mean of all the points in the cluster. Point $x$ belongs to the cluster $y$ whose center (mean) is closest.</p> \n",
        "\n",
        "<p>The means are computed through an iterative process:\n",
        "<ol>\n",
        "    <li>Select the initial $k$ means.</li>\n",
        "    <li>Assign a cluster $y$ to each $x$ in the training data according to the mean that is closest.</li>\n",
        "    <li>Update the $k$ means to be the means of the new clusters.</li>\n",
        "    <li>Repeat steps 2 and 3 until the means stop changing.</li>\n",
        "</ol>\n",
        "Further readings can be found on the <a href=\"http://cs.westminstercollege.edu\">the class website.</a></p>"
      ]
    },
    {
      "cell_type": "code",
      "metadata": {
        "id": "d7zwYFcz26Mk",
        "colab_type": "code",
        "outputId": "98eb6a6f-f7ef-4ee0-8262-bd2d2ae58213",
        "colab": {
          "base_uri": "https://localhost:8080/",
          "height": 441
        }
      },
      "source": [
        "from sklearn.datasets.samples_generator import make_blobs\n",
        "import random as rd\n",
        "import numpy.random as nr\n",
        "import matplotlib.pyplot as plt\n",
        "import numpy as np\n",
        "import numpy.linalg as npla\n",
        "from collections import Counter\n",
        "import scipy as sci\n",
        "\n",
        "# 1. use make_blobs to generate data\n",
        "X,Y = make_blobs(100,2, centers=5)\n",
        "# 2. implement k-means \n",
        "k=5\n",
        "\n",
        "# 2.1 choose one rndom one\n",
        "mean =[0,0,0,0,0]\n",
        "means = nr.choice(X.shape[0],1, replace=False)\n",
        "mean[0] = X[means[0]]\n",
        "d = [[],[],[],[]]\n",
        "for j in range(0,k-1):\n",
        "  for i in range(0,len(X)): #\n",
        "    d[j].append(npla.norm(mean[j]- X[i])) # m\n",
        "  d[j] = d[j]/sum(d[j])\n",
        "\n",
        "  if j > 0:\n",
        "    for i in range(0,99):\n",
        "      if d[j-1][i] < d[j][i]:\n",
        "        d[j][i] = d[j-1][i]\n",
        "        \n",
        "  d[j] = d[j]/sum(d[j])\n",
        "  mean[j+1]= X[nr.choice(X.shape[0],1,replace=False,p= d[j])]\n",
        "\n",
        "  print(mean, \"means\")\n",
        "  #mean[i] = X[means[i]]\n",
        "\n",
        "# 2.2 cluster all the data according to its nearest mean\n",
        "def clusterOfPoint(X, mean):\n",
        "  bestPT = []\n",
        "  for j in range(0,len(X)):\n",
        "    leastDistance = 1000000\n",
        "    for i in range(0,len(mean)):\n",
        "      distance = np.linalg.norm(X[j]-mean[i])\n",
        "      if distance < leastDistance:\n",
        "        leastDistance = distance\n",
        "        index = i\n",
        "    bestPT.append(index)\n",
        "  return bestPT\n",
        "bestPT = clusterOfPoint(X,mean)\n",
        "print(bestPT)\n",
        "\n",
        "# 2.3 update the means by taking the mean of the new clusters\n",
        "def redoMeans(bestPT, X):\n",
        "  totalX = Counter()\n",
        "  totalN = Counter(bestPT)\n",
        "  for rowNum, c in enumerate(bestPT):\n",
        "    totalX[c] += X[rowNum,:]\n",
        "  return np.array([ totalX[c]/ totalN[c] for c in totalN])\n",
        "\n",
        "# 2.4 repeat steps 2.2 and 2.3\n",
        "for i in range(0,3):\n",
        "  centroids = redoMeans(bestPT,X)\n",
        "  bestPT = clusterOfPoint(X,centroids)\n",
        "  print(bestPT)\n",
        "\n",
        "# 3. plot each cluster with a different color\n",
        "f = plt.figure()\n",
        "ax = f.gca()\n",
        "ax.scatter(X[:,0],X[:,1],3,bestPT)"
      ],
      "execution_count": 0,
      "outputs": [
        {
          "output_type": "stream",
          "text": [
            "[array([8.64874089, 5.80910341]), array([[-5.99516844, -3.5638977 ]]), 0, 0, 0] means\n",
            "[array([8.64874089, 5.80910341]), array([[-5.99516844, -3.5638977 ]]), array([[6.20468284, 2.3952559 ]]), 0, 0] means\n",
            "[array([8.64874089, 5.80910341]), array([[-5.99516844, -3.5638977 ]]), array([[6.20468284, 2.3952559 ]]), array([[-6.76027731, -4.88138989]]), 0] means\n",
            "[array([8.64874089, 5.80910341]), array([[-5.99516844, -3.5638977 ]]), array([[6.20468284, 2.3952559 ]]), array([[-6.76027731, -4.88138989]]), array([[-7.00808145,  5.76450087]])] means\n",
            "[3, 1, 3, 1, 3, 0, 4, 0, 4, 3, 2, 0, 1, 4, 1, 2, 4, 1, 1, 1, 0, 2, 2, 1, 4, 0, 0, 3, 3, 1, 1, 2, 4, 1, 1, 4, 4, 2, 4, 3, 2, 2, 1, 4, 1, 0, 0, 4, 4, 0, 1, 0, 3, 0, 2, 4, 0, 1, 0, 4, 1, 0, 2, 0, 0, 0, 0, 0, 2, 1, 4, 3, 2, 4, 2, 1, 0, 2, 0, 2, 3, 3, 2, 4, 2, 0, 1, 4, 4, 1, 0, 3, 1, 4, 1, 3, 3, 4, 4, 4]\n",
            "[0, 1, 0, 1, 0, 2, 3, 2, 3, 0, 4, 2, 1, 3, 0, 4, 3, 1, 1, 1, 4, 4, 4, 1, 3, 2, 2, 0, 0, 1, 1, 4, 1, 1, 0, 1, 3, 4, 3, 0, 4, 4, 1, 3, 0, 2, 2, 3, 3, 2, 1, 4, 0, 2, 4, 1, 2, 0, 2, 3, 1, 2, 4, 2, 2, 2, 2, 4, 4, 1, 3, 0, 4, 3, 4, 1, 2, 4, 2, 4, 0, 0, 4, 3, 4, 2, 0, 3, 3, 0, 2, 0, 1, 3, 1, 0, 0, 3, 3, 3]\n",
            "[0, 1, 0, 1, 0, 2, 3, 2, 3, 0, 4, 2, 1, 3, 0, 4, 3, 1, 1, 1, 4, 4, 4, 1, 3, 2, 2, 0, 0, 1, 1, 4, 1, 1, 0, 1, 3, 4, 3, 0, 4, 4, 1, 3, 0, 2, 2, 3, 3, 2, 1, 4, 0, 2, 4, 1, 2, 0, 2, 3, 1, 2, 4, 2, 2, 2, 2, 4, 4, 1, 3, 0, 4, 3, 4, 1, 2, 4, 2, 4, 0, 0, 4, 3, 4, 2, 0, 3, 3, 0, 2, 0, 1, 3, 1, 0, 0, 3, 3, 3]\n",
            "[0, 1, 0, 1, 0, 2, 3, 2, 3, 0, 4, 2, 1, 3, 0, 4, 3, 1, 1, 1, 4, 4, 4, 1, 3, 2, 2, 0, 0, 1, 1, 4, 1, 1, 0, 1, 3, 4, 3, 0, 4, 4, 1, 3, 0, 2, 2, 3, 3, 2, 1, 4, 0, 2, 4, 1, 2, 0, 2, 3, 1, 2, 4, 2, 2, 2, 2, 4, 4, 1, 3, 0, 4, 3, 4, 1, 2, 4, 2, 4, 0, 0, 4, 3, 4, 2, 0, 3, 3, 0, 2, 0, 1, 3, 1, 0, 0, 3, 3, 3]\n"
          ],
          "name": "stdout"
        },
        {
          "output_type": "execute_result",
          "data": {
            "text/plain": [
              "<matplotlib.collections.PathCollection at 0x7f96da7c4c50>"
            ]
          },
          "metadata": {
            "tags": []
          },
          "execution_count": 66
        },
        {
          "output_type": "display_data",
          "data": {
            "image/png": "[encoded data removed]",
            "text/plain": [
              "<Figure size 432x288 with 1 Axes>"
            ]
          },
          "metadata": {
            "tags": []
          }
        }
      ]
    },
    {
      "cell_type": "code",
      "metadata": {
        "id": "QMU45-m3Cnuh",
        "colab_type": "code",
        "colab": {}
      },
      "source": [
        ""
      ],
      "execution_count": 0,
      "outputs": []
    },
    {
      "cell_type": "code",
      "metadata": {
        "id": "AMKTnW28a2xN",
        "colab_type": "code",
        "colab": {}
      },
      "source": [
        ""
      ],
      "execution_count": 0,
      "outputs": []
    },
    {
      "cell_type": "code",
      "metadata": {
        "id": "2aydolJDTedl",
        "colab_type": "code",
        "colab": {}
      },
      "source": [
        "T"
      ],
      "execution_count": 0,
      "outputs": []
    }
  ]
}